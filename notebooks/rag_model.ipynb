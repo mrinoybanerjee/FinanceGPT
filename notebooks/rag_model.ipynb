{
 "cells": [
  {
   "cell_type": "markdown",
   "metadata": {},
   "source": [
    "# FinanceGPT: Using RAG Based LLM"
   ]
  },
  {
   "cell_type": "code",
   "execution_count": 2,
   "metadata": {},
   "outputs": [
    {
     "name": "stderr",
     "output_type": "stream",
     "text": [
      "Python-dotenv could not parse statement starting at line 3\n"
     ]
    }
   ],
   "source": [
    "import os\n",
    "from dotenv import load_dotenv\n",
    "\n",
    "# Load the environment variables\n",
    "load_dotenv()\n",
    "\n",
    "MONGODB_CONNECTION_STRING = os.getenv(\"MONGODB_URI\")\n",
    "MONGODB_DATABASE = os.getenv(\"MONGODB_DATABASE\")\n",
    "MONGODB_COLLECTION = os.getenv(\"MONGODB_COLLECTION\")\n",
    "GEMINI_API_KEY = os.getenv(\"GEMINI_API_KEY\")\n"
   ]
  },
  {
   "cell_type": "markdown",
   "metadata": {},
   "source": [
    "## Store chunks in MongoDB database"
   ]
  },
  {
   "cell_type": "code",
   "execution_count": 4,
   "metadata": {},
   "outputs": [
    {
     "name": "stdout",
     "output_type": "stream",
     "text": [
      "Total chunks stored in MongoDB: 97\n"
     ]
    }
   ],
   "source": [
    "import os\n",
    "import pymongo\n",
    "\n",
    "# Connect to MongoDB\n",
    "client = pymongo.MongoClient(MONGODB_CONNECTION_STRING)\n",
    "db = client[MONGODB_DATABASE]\n",
    "collection = db[MONGODB_COLLECTION]\n",
    "\n",
    "# Function to chunk text by sentence\n",
    "def chunk_by_sentence(text):\n",
    "    sentences = []\n",
    "    tmp_sentence = \"\"\n",
    "    for char in text:\n",
    "        if char in [\".\", \"!\", \"?\"]:\n",
    "            if tmp_sentence:  # Check if tmp_sentence is not empty\n",
    "                sentences.append(tmp_sentence.strip())\n",
    "            tmp_sentence = \"\"\n",
    "        else:\n",
    "            tmp_sentence += char\n",
    "    if tmp_sentence:\n",
    "        sentences.append(tmp_sentence.strip())\n",
    "    return sentences\n",
    "\n",
    "# Path to the directory containing cleaned text files\n",
    "clean_text_dir = '/Users/mrinoyb2/git/FinanceGPT/data/pf_wiki_texts'\n",
    "\n",
    "# Initialize a counter for unique MongoDB document IDs\n",
    "doc_id = 0\n",
    "\n",
    "# Iterate through each cleaned text file\n",
    "for file_name in os.listdir(clean_text_dir):\n",
    "    if file_name.endswith('.txt'):\n",
    "        file_path = os.path.join(clean_text_dir, file_name)\n",
    "\n",
    "        # Read the cleaned text from the file\n",
    "        with open(file_path, 'r') as file:\n",
    "            cleaned_text = file.read()\n",
    "\n",
    "        # Chunk the text\n",
    "        chunks = chunk_by_sentence(cleaned_text)\n",
    "\n",
    "        # Store chunks in MongoDB\n",
    "        for chunk in chunks:\n",
    "            # Create a document for each chunk\n",
    "            document = {\"_id\": doc_id, \"text\": chunk}\n",
    "            # Insert the document into the collection\n",
    "            collection.insert_one(document)\n",
    "            # Increment the doc_id for the next document\n",
    "            doc_id += 1\n",
    "\n",
    "print(f\"Total chunks stored in MongoDB: {doc_id}\")\n"
   ]
  },
  {
   "cell_type": "markdown",
   "metadata": {},
   "source": [
    "## Implement RAG"
   ]
  },
  {
   "cell_type": "markdown",
   "metadata": {},
   "source": [
    "### Create word embeddings"
   ]
  },
  {
   "cell_type": "code",
   "execution_count": 5,
   "metadata": {},
   "outputs": [
    {
     "name": "stderr",
     "output_type": "stream",
     "text": [
      "/opt/homebrew/lib/python3.11/site-packages/tqdm/auto.py:21: TqdmWarning: IProgress not found. Please update jupyter and ipywidgets. See https://ipywidgets.readthedocs.io/en/stable/user_install.html\n",
      "  from .autonotebook import tqdm as notebook_tqdm\n"
     ]
    },
    {
     "name": "stdout",
     "output_type": "stream",
     "text": [
      "{'_id': 0, 'text': 'rpersonalfinanceendoflifeplanningopen menuview page historyview page sourcecopy url introductionwhat you need to dorelated articlesintroductionfrom time to time the personal finance community is faced with a request for help from an person settling an estate or facing the near term death of a family member often it is clear that very little planning has been done and there is little to be done at that point rather than regretting the lost opportunity these requests can serve as a wake up call for all of us to get our affairs in orderthere are many concerns to address at end of life including your spiritual affairs your personal relationships and wrapping up any unfinished business or goals these are out of scope for a finance discussion but being well positioned in your financial plans can permit use of remaining time for addressing these concernswhat you need to dowhen planning for endoflife make sure youve covered the followinghavethe conversation communicate your end of life wishes to people you trustget oriented to the checklist at the websiteget your shit together these include a will living will life insurance money personal details  personal itemsreview titles for assets  beneficiary designations  some assets can be passed directly to your designates without going through probate for example in states which permittransfer on death titlesyou can title your house vehicle or financial accounts to pass directly to a designated person or organization without going through probate additionally bank accounts retirement and pension accounts and securities can often be treated similarly tod does not change the disposition of these assets so long as you remain alive so consider it for your assetshaving an inventory of all your assets is helpful information on finding assets starts on page 15 at the least catalog your financial life and write up aletter of instructionwith information on which accounts you have what your usual expenses are and where they are paid from and how you would want things to operate if you are unavailable during for example a terminal illness see steps here track down and claim assets that you may be entitled to via legitimate sources likeusagovandnaupas missing money siteorganize your financial affairs  a power of attorney document can be helpful in permitting a trusted person to manage your affairs during your life especially at the end but note thatpoas cease upon death poas come in a few varieties durable general financial and healthcare and combinations thereof know your options and set up one that is right for you consider who directs this and how you want your financial affairs handled if you are incapacitated since medical care costs can have significant impact on your financial affairs consider also how you want your end of life care handled evaluate the benefits of a living will advanced directive and medical power of attorney assess details carefully like who can access safe deposit boxes if you cant physically get to a bank evaluate your survivors needs for replacement income if you provide support to them life insurance can provide some financial security in the event of a financial supporters death seerinsuranceif you need more informationfuneral planning  theres a variety of options specified by different cultural and spiritual traditions consider what would work for you and recognize that theres no one right way to have a funeral in the us theaverage funeral costis between 8000 and 10000 but there are many other options which can either save money or make a funeral quite expensive you have the option to provide funds and instruction to your survivors as part of your end of life planning be careful not to overspecify your plans since meeting very specific criteria can increase costs economical options are available viamilitary burialsfor qualified us service members and their spouses body or organ donation for medical or scientific purposes green or natural burial and direct burial without a service certainfederal lawsprovide for consumer protection and state laws provide various additional protections page 25 has additional detailsmany people are benefitted by consulting with anestate attorney afeeonly financial advisor acting as a fiduciary or both of those to make these plans dont try to use this advice in lieu of getting an expert if you need onerelated articlesdeath of a loved onelast revised bydequeued', 'embedding': [-0.009903859347105026, 0.05347880721092224, -0.08566904067993164, -0.00015744553820695728, 0.02030988410115242, 0.08106136322021484, 0.04934022203087807, 0.015193167142570019, 0.04298319295048714, -0.04035627841949463, -0.002141547854989767, -0.04271572828292847, -0.051910512149333954, -0.036115750670433044, 0.0007141056121326983, -0.017772620543837547, -0.01954280212521553, -0.02349237911403179, -0.11310695111751556, 0.11490590870380402, 0.040976379066705704, 0.022226780652999878, -0.008710434660315514, 0.004505387041717768, 0.025469185784459114, -0.008953296579420567, 0.042684126645326614, -0.02306092530488968, 0.009601745754480362, 0.013851872645318508, 0.16198784112930298, 0.02302214875817299, -0.020485879853367805, -0.05275016650557518, -0.004432754125446081, 0.09460974484682083, -0.0241327416151762, 0.0319519080221653, 0.005169283133000135, -0.0662241131067276, -0.014655600301921368, 0.012959782965481281, 0.044306617230176926, -0.007451022509485483, 0.011239641346037388, -0.07994752377271652, -0.032727260142564774, -0.019720418378710747, 0.03488615155220032, 0.028122326359152794, -0.1245926097035408, -0.08572976291179657, 0.008971098810434341, 0.01916864886879921, 0.017600374296307564, 0.09382782131433487, -0.028270140290260315, 0.01599576696753502, -0.06746139377355576, -0.06486722081899643, -0.023325104266405106, -0.0109679214656353, 0.03719499334692955, -0.04193573445081711, -0.0368412509560585, 0.0669490396976471, 0.102116659283638, 0.036994777619838715, 0.017626658082008362, 0.024654416367411613, -0.055981021374464035, -0.1310664266347885, -0.10303957015275955, -0.0030080932192504406, -0.01441365759819746, 0.02047518640756607, 0.07484692335128784, -0.02090909704566002, -0.051149364560842514, -0.0649268850684166, 0.024589503183960915, 0.07439693808555603, -0.020367566496133804, 0.018966777250170708, -0.09955231845378876, 0.017361735925078392, -0.004704985301941633, 0.0673423558473587, 0.05163493752479553, 0.015204265713691711, 0.03427508845925331, -0.015867551788687706, 0.037042099982500076, -0.057934653013944626, 0.026721514761447906, 0.04390830174088478, -0.04789997264742851, -0.07549943029880524, -0.010954498313367367, -0.01223170105367899, -0.012493541464209557, -0.09804723411798477, 0.0050841826014220715, -0.019042719155550003, -0.024069812148809433, 0.050718821585178375, -0.03444674238562584, 0.046613674610853195, 0.030507348477840424, 0.027399709448218346, -0.019360071048140526, -0.03454079106450081, -0.0015579662285745144, -0.0036380626261234283, 0.03918471932411194, 0.07013121247291565, -0.10965156555175781, 0.037466950714588165, 0.15083090960979462, 0.012862186878919601, -0.027356505393981934, 0.0813501626253128, 0.007495674304664135, -0.01030046958476305, 0.01603293977677822, -0.03166907653212547, 0.019816210493445396, 1.1914940778997266e-32, 0.021274613216519356, -0.047872815281152725, -0.03647788614034653, 0.06069432944059372, -0.07809041440486908, 0.017117707058787346, -0.0252756979316473, 0.0458618700504303, -0.0027377826627343893, 0.0330447182059288, 0.1532161980867386, 0.01859513483941555, -0.036993544548749924, -0.07251288741827011, -0.07789602875709534, -0.05119260400533676, -0.053468603640794754, 0.08048956841230392, 0.0357523076236248, -0.005374949425458908, 0.04043528065085411, 0.0021318376529961824, 0.05989944562315941, -0.019723113626241684, 0.07840349525213242, -0.0713333785533905, 0.0069745988585054874, 0.01230948232114315, -0.05274093523621559, -0.018643317744135857, 0.01914612203836441, 0.04143131896853447, -0.01555860135704279, -0.07112785428762436, 0.009415602311491966, 0.08003932982683182, -0.10059800744056702, -0.001991625875234604, -0.004725026432424784, -0.05359664559364319, -0.08425744622945786, -0.018568597733974457, 0.015283980406820774, 0.0506046824157238, -0.019841361790895462, -0.022894760593771935, 0.10347390919923782, -0.033907439559698105, -0.037515364587306976, 0.052764248102903366, -0.059108082205057144, -0.08093633502721786, -0.06130017340183258, -0.04947458580136299, -0.12313627451658249, -0.010885429568588734, -0.046056438237428665, -0.025607699528336525, -0.061828479170799255, -0.03268866240978241, 0.0017857583006843925, -0.1338748335838318, -0.044064175337553024, -0.01080098282545805, -0.040645625442266464, 0.0423409640789032, -0.05421947315335274, -0.02797001786530018, 0.08138173818588257, -0.043683506548404694, -0.036647673696279526, -0.020361023023724556, 0.11228375881910324, 0.0355769619345665, 0.014621522277593613, 0.10680203884840012, -0.004080374725162983, 0.0020260477904230356, -0.015240933746099472, 0.08120216429233551, 0.06390255689620972, 0.06199810653924942, -0.015395820140838623, 0.08796027302742004, 0.15309031307697296, 0.04466262832283974, 0.07070465385913849, -0.03828110545873642, -0.003775625489652157, 0.020524734631180763, -0.042632196098566055, 0.030669504776597023, 0.033989470452070236, 0.020136479288339615, 0.004182260483503342, -1.242935694338427e-32, 0.005654842127114534, -0.06483792513608932, 0.03418228030204773, -0.02515113539993763, 0.041113607585430145, -0.08344413340091705, -0.06256736069917679, -0.027156813070178032, 0.03436681255698204, -0.03489433601498604, -0.01723375730216503, 0.01811864599585533, 0.061494357883930206, 0.020039265975356102, -0.09853646904230118, -0.053528737276792526, 0.029301313683390617, -0.12481198459863663, 0.01861351542174816, -0.029176635667681694, -0.03330414742231369, 0.04944059997797012, -0.10335169732570648, 0.005720498505979776, 0.009543867781758308, 0.07077470421791077, -0.012291797436773777, 0.05311261862516403, -0.007307804189622402, -0.021747756749391556, 0.030206765979528427, 0.03837982937693596, 0.002600244479253888, -0.032250914722681046, 0.007958722300827503, -0.05227675288915634, 0.04445216804742813, -0.06817188113927841, -0.03363097459077835, -0.006401382852345705, 0.08398907631635666, 0.01286227349191904, 0.012527001090347767, -0.05705401673913002, -0.017924556508660316, -0.08793877065181732, 0.018061723560094833, -0.013992316089570522, 0.0449906587600708, 0.03471395745873451, -0.003866406623274088, 0.0024363899137824774, 0.038648948073387146, 0.030935900285840034, 0.020567672327160835, 0.00508010433986783, 0.06527654081583023, -0.05216159671545029, 0.049976903945207596, -0.018592361360788345, 0.00715675950050354, 0.1120753288269043, 0.027418311685323715, 0.056254759430885315, 0.009629419073462486, -0.060778360813856125, -0.027594728395342827, -0.09717299789190292, -0.0719851702451706, -0.002907535759732127, -0.0028268375899642706, -0.06597057729959488, -0.02988341636955738, -0.06592176109552383, 0.05688296630978584, 0.006744808983057737, 0.04094330966472626, -0.055575110018253326, 0.023464789614081383, 0.02287728153169155, 0.025334946811199188, 0.020948991179466248, -0.032183874398469925, 0.045097194612026215, 0.008051085285842419, -0.04401936009526253, -0.0672423467040062, -0.024303944781422615, 0.07964316755533218, -0.025386745110154152, -0.05802256241440773, -0.01789291575551033, -0.0003089627716690302, 0.03903069347143173, -0.06230717524886131, -5.867352470545484e-08, 0.0518566258251667, -0.028722943738102913, 0.050746504217386246, -0.022900719195604324, 0.029650762677192688, -0.09300386160612106, 0.07671231776475906, 0.018844719976186752, -0.00978971365839243, 0.06397908180952072, -0.002807257231324911, 0.042322512716054916, -0.009021738544106483, -0.007745923940092325, -0.06723646819591522, -0.0849905014038086, 0.04565645754337311, -0.0629180446267128, -0.0028249146416783333, -0.014176012948155403, 0.01005622185766697, -0.12600867450237274, -0.04185072332620621, 0.004227522760629654, 0.0011501972330734134, -0.003491694573312998, 0.06006322428584099, 0.07910413295030594, -0.02056882157921791, 0.024944966658949852, -0.042787302285432816, 0.004580726381391287, 0.05101975053548813, 0.019685043022036552, -0.06009910628199577, -0.05523187294602394, 0.0034451440442353487, 0.05605990067124367, -0.0042113568633794785, 0.04728279635310173, 0.027490058913826942, 0.02790983021259308, 0.0439203679561615, 0.051413193345069885, -0.02356724999845028, -0.0393938310444355, -0.036718085408210754, -0.0025941110216081142, -0.05583536624908447, -0.024038273841142654, -0.00739514222368598, -0.05917085334658623, 0.07941719144582748, 0.001151103526353836, -0.05095241591334343, 0.06364051252603531, 0.03460683301091194, 0.10044402629137039, -0.035199668258428574, 0.023720141500234604, 0.04221879690885544, -0.04331961274147034, -0.05714435130357742, -0.04277561604976654]}\n"
     ]
    }
   ],
   "source": [
    "from sentence_transformers import SentenceTransformer\n",
    "import pymongo\n",
    "\n",
    "# Connect to MongoDB\n",
    "client = pymongo.MongoClient(MONGODB_CONNECTION_STRING)\n",
    "db = client[MONGODB_DATABASE]\n",
    "chunks_collection = db[MONGODB_COLLECTION]\n",
    "\n",
    "# Load the sentence transformer model\n",
    "model = SentenceTransformer('all-MiniLM-L6-v2')\n",
    "\n",
    "# Function to update documents with embeddings\n",
    "def update_documents_with_embeddings():\n",
    "    for document in chunks_collection.find():\n",
    "        # Generate embedding\n",
    "        embedding = model.encode(document['text'], convert_to_tensor=False)\n",
    "        # Update document with embedding\n",
    "        chunks_collection.update_one({'_id': document['_id']}, {'$set': {'embedding': embedding.tolist()}})\n",
    "\n",
    "# Uncomment the following line to run the embedding update\n",
    "update_documents_with_embeddings()\n",
    "\n",
    "# Check the first document to see if the embedding was added\n",
    "print(chunks_collection.find_one())\n"
   ]
  },
  {
   "cell_type": "markdown",
   "metadata": {},
   "source": [
    "### Semantic search retrieval"
   ]
  },
  {
   "cell_type": "code",
   "execution_count": 7,
   "metadata": {},
   "outputs": [
    {
     "name": "stdout",
     "output_type": "stream",
     "text": [
      "Result 1 (Score: 0.515): rpersonalfinancefinancialadvisorsopen menuview page historyview page sourcecopy url should i use a financial advisorplannerprobably notwell maybewhat does feeonly meanwhich types of complex situationswhich specific credentials are best if i am looking for general personal finance adviceresources to find a financial advisorplannerchecking credentialsfinancial issues of a legal natureadditional readingshould i use a financial advisorplannerprobably notmany fas are paid differently depending on what you do with your money so they will inevitably be biased in favor of investments that maximize their commissions  this is especially true of financial advisors associated with fullservice brokerages insurance companies and fund companies focused on active management  for most people investing isnt more complicated than picking an asset allocation and finding lowcost indexfunds so the best fa in the world will just repeat the same advice we give herewell maybein complex situations or when dealing with large sums of money fas can help you avoid making big mistakes  as a rule of thumb consider a fa if youre dealing with 1m for the first time or 10x as much as you have ever dealt with before  this is pretty subjective so you can also post a thread asking if your situation calls for a fa or if the generic advice applies to youif you decide to hire a fa make sure they arefeeonlyand advise in a fiduciary capacity meaning they are advising inyourbest interest  look for a feeonly advisor that is not directly associated with any of the investment options you are considering and consider getting a second opinionwhat does feeonly meanthere are two primary ways in which financial advisors are compensatedcommissions generated from the financial products they sell youfees charged directly to you this may be hourly a retainer for planning services typically monthly or quarterly or based on assets under management aumthe issue with commissions is that they produce a major conflict of interest for the advisor specifically commissions create an incentive to sell clients financial products that produce higher commissions rather than products that are the most appropriate investmentwhich types of complex situationsin addition to dealing with large sums of money for the first time some common situations when a financial advisor may be more helpful includewhen you are planning to take care of aging parents or help them plan their retirementwhen you are nearing retirementwhen dealing with particularly complex tax estate planning or other personal finance issueswhich specific credentials are best if i am looking for general personal finance advicein the united states these are generally wellregardedcertified financial planner cfpchartered financial consultant chfccertified public accountant cpawithpersonal finance specialist pfs credentialresources to find a financial advisorplannerhere are some us resources you can use to find and research financial advisors and financial plannersfind a feeonly planner athttpwwwnapfaorgthegarrett planning networkis a group of financial advisors providing financial services on an hourly feeonly basis all advisors are cfps or cpas with fps credential or are working towards one of those credentialsthexy planning networkis an organization of feeonly financial advisors that specialize in helping members of generation x and generation y  all advisors are cfpsvanguard personal advisor servicescharges 03 per year for assets managed under the service many of the advisors hold a cfp credential but some do not if less than 500000 is being managed the customer is managed by a team of advisors rather than being assigned an individual advisor this is perhaps technically not a feeonly optionchecking credentialsbefore you talk to any financial advisor you should verify their credentials and check whether they have received any complaints or sanctions by regulatorsif the advisor is a cfpverify their cfp certification and background at cfpnetif the advisor holds any securities licenses they should be able to tell you whether they are licensed with finra the sec andor a state agency then you can usebrokercheck at finra thesec investment advisor search feature or find therelevant state agencyto check out the advisorfinancial issues of a legal naturewhen dealing with financial issues of a legal nature consulting with a local attorney with expertise in that area is the best way to answer any legal questions draft legal documents and represent you in legal matters  common areas includebankruptcyestate planningtax issuesadditional readingfinancial planner  bogleheadshow to choose a financial plannerlast revised bydequeued...\n",
      "Result 2 (Score: 0.505): rpersonalfinanceportfolioquestionsopen menuview page historyview page sourcecopy url what information should i include when i ask for portfolio helpwhat information should i include when i ask for portfolio helpindicate what types of accounts you have and in the case of iras where they are eg vanguard tiaacref if you have a 401k indicate what the mutual fund choices are within that be sure to include name category ticker symbol and expense ratio for each if you dont know what these are askif you are also extending your retirement investing into a taxable account such as if youve already maxed out your other options treat that as another account and include the same informationindicate either the current balance approximate is fine or an estimated balance such as what you expect it to be in six months or at the end of the year for each account or if you prefer indicate percentagebased balances so as not to reveal absolutedollar amountsindicate your desired asset allocation typically this means dividing up your investment into three categories bonds domestic us stocks and international stocks if you dont know what you want go ahead and ask that too if youd like to own other things as well such as gold or reits make a mention of thatconsider following thebogleheadstemplatelast revised byaboglehead...\n",
      "Result 3 (Score: 0.447): rpersonalfinanceinvestingopen menuview page historyview page sourcecopy url common questions on investingi have money that i need in a short amount of time should i investwhat types of accounts should i save inwhat should i invest indiversify by holding different types of assetsdiversify by holding funds not individual securitiesprioritize funds with low expenseshow can i start investing for retirementshould i invest a lump sum all at once or employ a dollar cost averaging strategyfor lowcost index fund providers which is preferable vanguard fidelity or schwabwhy does everyone seem to recommend vanguardin what order should i prioritize my longterm investmentshow should i invest in my 401k 403b simple ira or other employersponsored account with limited choicescan you just recommend something extremely specific to get me startedwhat bond percentage should i haverelated subredditscommon questions on investingi have money that i need in a short amount of time should i investits a bad idea to invest money that you will need within several years the stock market is too volatile for any time horizon shorter than 3 to 5 years and investing for less than 10 years is risky its not for the faint of heartfor any time frame under 3 to 5 years you should just use savings or money market accounts  if the idea of low interest rates is too much to bear you can also consider usingi bondsor acd ladderwhile i bond rates are often attractive be aware that i bond purchases are locked up for the first 12 months and if you redeem an i bond within the first 5 years you will lose the last 3 months of interest the higher interest rates compared to savings accounts will often make up for the last 3 months of interest thoughconsider using a mini cd ladder based on cds with shorter terms if the time frame is under 1 to 2 years and bear in mind that cds also often have a lock up period or a significant early withdrawal penaltyif the time frame is 5 years or longer you can consider something like a vanguard lifestrategy fund or a similarly allocatedthreefund portfolio the risk is significant that you will lose money because its a relatively short time frame for an investment that is based on stocks and bonds  you need to be prepared for a scenario where a poorly timed downturn could affect your plans for the money  to put it another way more than half of the time it will be a win based on past history but sometimes it will not be a winif that seems too risky for you stick with savings accounts money market accounts cds or maybe some i bonds as long as the 12month lockup isnt an issue see abovejust bear in mind that there is a different risk to not investing aggressively enough if your investments are not outpacing inflation about 2 a year in recent history you may be losing actual value over time despite your investments being worth more nominally historically stocks tend to outpace inflation the best bonds also generally outpace inflation but the margin tends to be significantly smallerfor borderline time frames of 3 to 5 years aggressive investors may consider one of the more conservative vanguard lifestrategy funds or a similarly allocated threefund portfolio perhaps combined with i bonds cds saving accounts andor money market accounts but this is definitely not for the faint of heartwhat types of accounts should i save innote the type of account is completely separate from the investment itself except that certain accounts can only contain certain kinds of investments  the account type depends on the type of financial goal youre saving for since different account types have different rules about howwhen you can use the money and how they are taxedpick the account type based on the type of financial goal  pick the investment based on the time horizon for that goalput your emergency fund in a savings or checking account ideally at a bank with no atm fees and lots of convenient atmssave for retirement in taxadvantaged retirement accounts such as an ira 401k 403b or the thrift savings plan in general the financial optimum is to use up all available taxadvantaged retirement account space before moving on to investing in taxable investment accounts seeroth or traditionalfor information on deciding between the roth version and traditional version of retirement accountssave for all other financial goals in a taxable brokerage accountfor specialty savings accounts consider 529 plans education health savings accounts for future medical expenses if your health insurance plan qualifies you for one or ugmautma accounts for childrenwhat should i invest inif youve already decided to invest your money and youve decided what type of account to invest in dont skip these steps you now need to determine the investments themselvesdiversify by holding different types of assetsit may be unwise to only hold stocks of us large companies most people would recommend diversifying across us stocks international stocks and bondssee the bogleheads wiki article on asset allocation for more an example asset allocation for someone with a long investment timeframe might be 50 us stocks 30 international stocks and 20 bondsdiversify by holdingfunds not individual securitiesit is the general philosophy of therpersonalfinancecommunity that the best approach to investing especially for beginners takes advantage of diversifiedfundsof stocks and bonds instead of purchasing shares of specific companies like coke you buy into mutual funds or exchange traded funds which in turn own hundreds or thousands of companies in this way you get the upside benefit of the general trend of stock markets to go up and eliminate the extreme volatility and risk that can come with holding single stocks  good brokers to purchase shares of index funds from include vanguard fidelity and charles schwabprioritize funds with low expensesin general stock and bond funds can be divided into two categoriesactively managed fundsthese funds have a management team that is actively picking and choosing buying and selling stocks in an attempt to beat the market and buy low sell high unfortunately they often come with much higherfeesindex fundshold stocks or bonds according to an index like the sp 500 and dont change at all except when the index changes rarely due to this the expenses are often much lower expense ratios below 03 no sales loadsresearch continues to show that in general people holding low expense index funds out perform people holding actively managed funds source you cant predict the future and the past performance of any given mutual fund is no indicator of future performance one of the few things youcancontrol when selecting investments is the expenses you paytwo main types of expenses associated with mutual funds and etfstype of expensedescriptionexampleideal expenseexpense ratiothe percentage of your assets that is skimmed off each year to pay the management teamif the underlying assets of a mutual fund see a 6 gain in a year but the fund has a 05 expense ratio your holdings will only increase about 55 in valueless than 018 this is readily achievable through low cost internet brokers like fidelity schwab or vanguardsales loada sales charge you pay every time you buy or sell sharesif you put 1000 into a mutual fund with a 5 front load your money only buys 950 worth of shares in that fund it may take a year or more to make up that loss0 paying any sales charge at all should be unnecessaryhow can i start investing for retirementif you want something simple to start and you have income to invest save 1000 and open a roth or traditional depending on your tax circumstances ira with vanguard or schwab see below for fund suggestionsanother important thing to do is to read about investing for retirement check out thesuggested reading listand follow threads inrpersonalfinanceabout the topic ask questions as they come up if they arent in the wikishould i invest a lump sum all at once or employ a dollar cost averaging strategydollar cost averaging dca is a strategy in which you spread out your investment of a given sum over time  for example if you have 12000 to invest you could invest 3000 every quarter 1000 every month or any other increment you want  dca reduces your shortterm risk by ensuring that your entire sum is not invested at temporarily inflated priceshowever it is important to understand that dca is not the financially optimal strategy  vanguard found that lump sum investing lsi ie investing all of your available funds immediately outperformed a dca strategy based on historical performance pdf 12  since the longterm historical trend of equities has been up this makes sense intuitively as well  lump sum investors are compensated for taking on the equity risk premium high risk high reward sooner rather than laterwhich strategy is best for you is a highly personal decision  as vanguard statesto be comfortable with either strategy an investor must be fully aware of the fact that historical averages are only a guide  it is still possible for lsi or dca to underperform or even lose money in any given period if an investor is uncomfortable with the risks associated with a given market entry strategy it may imply a low willingness to take risk in general and if so we recommend revisiting the target asset allocation to ensure that it appropriately addresses risk tolerance levels and investing goalsfor an academic analysis of lsi vs dca seeconstantides  a note on the suboptimality of dollarcost averaging as an investment policy  finance author larry swedroe offers his thoughts on lsi vs dca inthis articlenote lsi vs dca refers to a sum you have on hand and are debating on the best way to get it in the marketinvesting money as you obtain it for example investing money from each paycheck is not an example of dcafor lowcost index fund providers which is preferable vanguard fidelity or schwabit depends on what funds you want to purchase what services are important to you and other factors vanguard fidelity and schwab all have a 0 minimum investment and a solid selection of lowcost index funds both mutual funds and etfs with no commissionnameetfsmutual fundsasset allocation fundscustomer servicebanking servicesvanguardanyvtsax vtiax vbtlxand more3000 minimumtarget date funds1000 minimum andtarget risk funds3000 minimumemail and phone support 8am10pm est mfno some mutual funds allow limited check writingfidelityanyfzrox fzilx fxnaxand more0 minimumtarget date funds0 minimumbranches email live chat and 247 phone supportcash management account atm rebates automatic money market investment free checks no fx fees for atm withdrawalscharles schwabanyswtsx swisx swagxand more1 minimumtarget date funds1 minimumbranches email live chat and 247 phone supportchecking and savings accounts atm rebates free checks no fx fees for atm withdrawals and debit purchasesall of the example funds listed are index funds have a net expense ratio of 025 or less and no commissionsrecommended mutual funds are given in the order us stocks international stocks us bonds for etf recommendations see belowthe us stock recommendations are all us total stock market fundsthe international stock recommendations must be at least as diversified as the msci eafe indexthe us bond recommendation are all us bond market index fundsfor all etfs the minimum investment is 1 share typically 20 to 200the above information may become out of date as time passes so make sure to check the web site of your chosen investment company for updated fund informationthis answer is based onthe brokerage and investment firms frequently recommended on pfwhich contains more detail and additional brokerage optionswhy does everyone seem to recommend vanguardgiven the higher fund minimums limited hours for customer service and lack of banking features it may seem strange that so many people definitely not everyone recommend vanguard onrpersonalfinance a lot has been written on this but the basic arguments that most fans will give are as followsvanguard created the first index fund available to individual investors and continues to be more focused and dedicated to index fund investing than other companiesvanguard has a unique clientowned structurerather than being publicly traded or privately owned vanguard is owned by its own funds and those funds are owned by vanguard customersvanguard has a broader selection of lowcost index funds and their actively managed funds are generally very low in costthe worst case fees that an unsavvy investorcouldend up paying for funds advice or asset management are generally going to be significantly lower at vanguardmost vanguard mutual funds are more taxefficient and suitable for use in taxable accounts while investors generally need to use etfs to reach the same level of taxefficiency with other fund companies this doesnt matter at all in an ira or other taxadvantaged accountin what order should i prioritize my longterm investmentsfollow the instructions ini have x what should i do with it  it covers steps all of the way from building an emergency fund to people who are maxing out their 401k and iraif your goal is to retire before 60 note thatthere are options for getting money out of taxadvantaged accounts before age 59so you should still follow those stepshow should i invest in my 401k 403b simple ira or other employersponsored account with limited choicesread ourstepbystep guide to 401k fund selectioncan you just recommend something extremely specific to get me startedsure but youreallyneed to understand what youre buying  it wont take you long to study up on index investing and the gains youll miss out on by waiting a few days are negligibleit is assumedyou have an emergency fund and no expensive debtsthe most common recommendations are a target date fund or a threefund portfolio  both consist of domestic stocks international stocks and bondswith atarget date fund you just buy a single fund that has a target date near your expected retirement age and the complexity of managing the fund allocation is handled by the fund for youwith athreefund portfolio you manage your own allocation of the individual fundsif youre just getting started with investing in an ira your best bet is a target date fund at vanguard fidelity or schwabat vanguard use a vanguard target retirement fund 1000 minimumat fidelity use a fidelity freedom index fund 0 minimum be careful toavoid the similarly named fidelity freedom funds without the word index in the nameat schwab use a schwab target index fund 100 minimum be careful toavoid the similarly named schwab target funds without the word index in the nametarget date funds are intended to be easy options if you are just getting started and still learning about investing when your ira has grown to a larger size you may consider switching to a threefund portfolio approach to save on costs but the savings are only about 01 per year 10 per year per 10000 invested for most people its probably not worth the effort until you have at least 30000 or even 50000 invested overall if a target date fund is working for you stick with it as long as you wantif youre doing this in a taxable account rather than an ira you should consider building a threefund portfolio instead because target date funds are generally not taxefficient this is not a factor in an ira 401k plan or other taxadvantaged retirement accounts of courseotherwise you may be best served by athreefund portfoliowhich typically consists of the following individual fundsus total stock market index fundetf options include vti vanguard itot ishares and schb schwabmutual fund options include vtsax vanguard fzrox fidelity and swtsx schwabtotal international stock market index fundetf options include vxus vanguard and ixus isharesmutual fund options include vtiax vanguard and fzilx fidelitytotal bond market index fundetf options include bnd vanguard iusb ishares agg ishares and schz schwabmutual fund options include vbtlx vanguard fxnax fidelity and swagx schwabhere are the steps to build a basic threefund portfoliodetermine your desired bond allocationdecide how much to allocate to domestic stocks and international stocks  a domestic stock allocation of 60 to 80 is commonly recommended with 20 to 40 allocated to international stocks  the average target date fund allocates about 13 of the equity allocation to international stocks sourcemorningstar  for investors outside of the us it is common to recommend allocating a much smaller percentage to domestic stocks eg 20 to 30 although costs and other countryspecific factors need to be consideredwhenever you add money instead of adding money in the original proportions add the money in such a way that after you add money your portfolio is closer to your desired proportions  if you dont add money at least once a year or if you dont add enough to rebalance as close as you want log in once a year and sell off the winners that are worth more than their proportion and buy the losers that are worth less than their proportion  you dont have to hit these proportions exactly  getting within a few percent is finefor more specific recommendations consider any of thelazy portfolios listed in the bogleheads wikiwhat bond percentage should i havefirst of all if youre using a target date fund the bond allocation is already managed for you as part of theglide pathprocess that gradually adjusts the allocation of a target date fund over time therefore you only need to consider bond allocation for investments that arenottarget date fundsits not a great idea for anyone to be invested 100 into stocks or 100 into bonds  historically stock investments have more volatility than bonds and bonds dont outpace inflation as well as stocks  for virtually all investors a mix of both asset classes is a good idea in your investments after setting up an emergency fund and paying off expensive debts of coursetherefore you need to decide what percentage you want to hold in bonds and what percentage in stocks  this is a complex topic but some simple approaches aresubtract your age from 100 or 110 allocate that percentage to stocks and the remainder is your bond allocationsubtract your age from 130 or 120 allocate that percentage to stocks cap at 100 and the remainder is your bond allocationuse your age in bonds eg a 20yearold would hold 20 bondswhile some investors do decide to leave out bonds most target date funds always include at least 10 bonds even for investors very far from retirement  holding less in bonds will result in higher volatility so a 100 stock allocation will result in the highest possible volatilityif youre still uncertain about your bond allocation look at the allocation used by thevanguard target date fundthat would be appropriate for you based on your expected retirement date andor birth yearrelated subredditsrbogleheadslast revised bydequeued...\n",
      "Result 4 (Score: 0.447): rpersonalfinanceinvestingopen menuview page historyview page sourcecopy url common questions on investingi have money that i need in a short amount of time should i investwhat types of accounts should i save inwhat should i invest indiversify by holding different types of assetsdiversify by holding funds not individual securitiesprioritize funds with low expenseshow can i start investing for retirementshould i invest a lump sum all at once or employ a dollar cost averaging strategyfor lowcost index fund providers which is preferable vanguard fidelity or schwabwhy does everyone seem to recommend vanguardin what order should i prioritize my longterm investmentshow should i invest in my 401k 403b simple ira or other employersponsored account with limited choicescan you just recommend something extremely specific to get me startedwhat bond percentage should i haverelated subredditscommon questions on investingi have money that i need in a short amount of time should i investits a bad idea to invest money that you will need within several years the stock market is too volatile for any time horizon shorter than 3 to 5 years and investing for less than 10 years is risky its not for the faint of heartfor any time frame under 3 to 5 years you should just use savings or money market accounts  if the idea of low interest rates is too much to bear you can also consider usingi bondsor acd ladderwhile i bond rates are often attractive be aware that i bond purchases are locked up for the first 12 months and if you redeem an i bond within the first 5 years you will lose the last 3 months of interest the higher interest rates compared to savings accounts will often make up for the last 3 months of interest thoughconsider using a mini cd ladder based on cds with shorter terms if the time frame is under 1 to 2 years and bear in mind that cds also often have a lock up period or a significant early withdrawal penaltyif the time frame is 5 years or longer you can consider something like a vanguard lifestrategy fund or a similarly allocatedthreefund portfolio the risk is significant that you will lose money because its a relatively short time frame for an investment that is based on stocks and bonds  you need to be prepared for a scenario where a poorly timed downturn could affect your plans for the money  to put it another way more than half of the time it will be a win based on past history but sometimes it will not be a winif that seems too risky for you stick with savings accounts money market accounts cds or maybe some i bonds as long as the 12month lockup isnt an issue see abovejust bear in mind that there is a different risk to not investing aggressively enough if your investments are not outpacing inflation about 2 a year in recent history you may be losing actual value over time despite your investments being worth more nominally historically stocks tend to outpace inflation the best bonds also generally outpace inflation but the margin tends to be significantly smallerfor borderline time frames of 3 to 5 years aggressive investors may consider one of the more conservative vanguard lifestrategy funds or a similarly allocated threefund portfolio perhaps combined with i bonds cds saving accounts andor money market accounts but this is definitely not for the faint of heartwhat types of accounts should i save innote the type of account is completely separate from the investment itself except that certain accounts can only contain certain kinds of investments  the account type depends on the type of financial goal youre saving for since different account types have different rules about howwhen you can use the money and how they are taxedpick the account type based on the type of financial goal  pick the investment based on the time horizon for that goalput your emergency fund in a savings or checking account ideally at a bank with no atm fees and lots of convenient atmssave for retirement in taxadvantaged retirement accounts such as an ira 401k 403b or the thrift savings plan in general the financial optimum is to use up all available taxadvantaged retirement account space before moving on to investing in taxable investment accounts seeroth or traditionalfor information on deciding between the roth version and traditional version of retirement accountssave for all other financial goals in a taxable brokerage accountfor specialty savings accounts consider 529 plans education health savings accounts for future medical expenses if your health insurance plan qualifies you for one or ugmautma accounts for childrenwhat should i invest inif youve already decided to invest your money and youve decided what type of account to invest in dont skip these steps you now need to determine the investments themselvesdiversify by holding different types of assetsit may be unwise to only hold stocks of us large companies most people would recommend diversifying across us stocks international stocks and bondssee the bogleheads wiki article on asset allocation for more an example asset allocation for someone with a long investment timeframe might be 50 us stocks 30 international stocks and 20 bondsdiversify by holdingfunds not individual securitiesit is the general philosophy of therpersonalfinancecommunity that the best approach to investing especially for beginners takes advantage of diversifiedfundsof stocks and bonds instead of purchasing shares of specific companies like coke you buy into mutual funds or exchange traded funds which in turn own hundreds or thousands of companies in this way you get the upside benefit of the general trend of stock markets to go up and eliminate the extreme volatility and risk that can come with holding single stocks  good brokers to purchase shares of index funds from include vanguard fidelity and charles schwabprioritize funds with low expensesin general stock and bond funds can be divided into two categoriesactively managed fundsthese funds have a management team that is actively picking and choosing buying and selling stocks in an attempt to beat the market and buy low sell high unfortunately they often come with much higherfeesindex fundshold stocks or bonds according to an index like the sp 500 and dont change at all except when the index changes rarely due to this the expenses are often much lower expense ratios below 03 no sales loadsresearch continues to show that in general people holding low expense index funds out perform people holding actively managed funds source you cant predict the future and the past performance of any given mutual fund is no indicator of future performance one of the few things youcancontrol when selecting investments is the expenses you paytwo main types of expenses associated with mutual funds and etfstype of expensedescriptionexampleideal expenseexpense ratiothe percentage of your assets that is skimmed off each year to pay the management teamif the underlying assets of a mutual fund see a 6 gain in a year but the fund has a 05 expense ratio your holdings will only increase about 55 in valueless than 018 this is readily achievable through low cost internet brokers like fidelity schwab or vanguardsales loada sales charge you pay every time you buy or sell sharesif you put 1000 into a mutual fund with a 5 front load your money only buys 950 worth of shares in that fund it may take a year or more to make up that loss0 paying any sales charge at all should be unnecessaryhow can i start investing for retirementif you want something simple to start and you have income to invest save 1000 and open a roth or traditional depending on your tax circumstances ira with vanguard or schwab see below for fund suggestionsanother important thing to do is to read about investing for retirement check out thesuggested reading listand follow threads inrpersonalfinanceabout the topic ask questions as they come up if they arent in the wikishould i invest a lump sum all at once or employ a dollar cost averaging strategydollar cost averaging dca is a strategy in which you spread out your investment of a given sum over time  for example if you have 12000 to invest you could invest 3000 every quarter 1000 every month or any other increment you want  dca reduces your shortterm risk by ensuring that your entire sum is not invested at temporarily inflated priceshowever it is important to understand that dca is not the financially optimal strategy  vanguard found that lump sum investing lsi ie investing all of your available funds immediately outperformed a dca strategy based on historical performance pdf 12  since the longterm historical trend of equities has been up this makes sense intuitively as well  lump sum investors are compensated for taking on the equity risk premium high risk high reward sooner rather than laterwhich strategy is best for you is a highly personal decision  as vanguard statesto be comfortable with either strategy an investor must be fully aware of the fact that historical averages are only a guide  it is still possible for lsi or dca to underperform or even lose money in any given period if an investor is uncomfortable with the risks associated with a given market entry strategy it may imply a low willingness to take risk in general and if so we recommend revisiting the target asset allocation to ensure that it appropriately addresses risk tolerance levels and investing goalsfor an academic analysis of lsi vs dca seeconstantides  a note on the suboptimality of dollarcost averaging as an investment policy  finance author larry swedroe offers his thoughts on lsi vs dca inthis articlenote lsi vs dca refers to a sum you have on hand and are debating on the best way to get it in the marketinvesting money as you obtain it for example investing money from each paycheck is not an example of dcafor lowcost index fund providers which is preferable vanguard fidelity or schwabit depends on what funds you want to purchase what services are important to you and other factors vanguard fidelity and schwab all have a 0 minimum investment and a solid selection of lowcost index funds both mutual funds and etfs with no commissionnameetfsmutual fundsasset allocation fundscustomer servicebanking servicesvanguardanyvtsax vtiax vbtlxand more3000 minimumtarget date funds1000 minimum andtarget risk funds3000 minimumemail and phone support 8am10pm est mfno some mutual funds allow limited check writingfidelityanyfzrox fzilx fxnaxand more0 minimumtarget date funds0 minimumbranches email live chat and 247 phone supportcash management account atm rebates automatic money market investment free checks no fx fees for atm withdrawalscharles schwabanyswtsx swisx swagxand more1 minimumtarget date funds1 minimumbranches email live chat and 247 phone supportchecking and savings accounts atm rebates free checks no fx fees for atm withdrawals and debit purchasesall of the example funds listed are index funds have a net expense ratio of 025 or less and no commissionsrecommended mutual funds are given in the order us stocks international stocks us bonds for etf recommendations see belowthe us stock recommendations are all us total stock market fundsthe international stock recommendations must be at least as diversified as the msci eafe indexthe us bond recommendation are all us bond market index fundsfor all etfs the minimum investment is 1 share typically 20 to 200the above information may become out of date as time passes so make sure to check the web site of your chosen investment company for updated fund informationthis answer is based onthe brokerage and investment firms frequently recommended on pfwhich contains more detail and additional brokerage optionswhy does everyone seem to recommend vanguardgiven the higher fund minimums limited hours for customer service and lack of banking features it may seem strange that so many people definitely not everyone recommend vanguard onrpersonalfinance a lot has been written on this but the basic arguments that most fans will give are as followsvanguard created the first index fund available to individual investors and continues to be more focused and dedicated to index fund investing than other companiesvanguard has a unique clientowned structurerather than being publicly traded or privately owned vanguard is owned by its own funds and those funds are owned by vanguard customersvanguard has a broader selection of lowcost index funds and their actively managed funds are generally very low in costthe worst case fees that an unsavvy investorcouldend up paying for funds advice or asset management are generally going to be significantly lower at vanguardmost vanguard mutual funds are more taxefficient and suitable for use in taxable accounts while investors generally need to use etfs to reach the same level of taxefficiency with other fund companies this doesnt matter at all in an ira or other taxadvantaged accountin what order should i prioritize my longterm investmentsfollow the instructions ini have x what should i do with it  it covers steps all of the way from building an emergency fund to people who are maxing out their 401k and iraif your goal is to retire before 60 note thatthere are options for getting money out of taxadvantaged accounts before age 59so you should still follow those stepshow should i invest in my 401k 403b simple ira or other employersponsored account with limited choicesread ourstepbystep guide to 401k fund selectioncan you just recommend something extremely specific to get me startedsure but youreallyneed to understand what youre buying  it wont take you long to study up on index investing and the gains youll miss out on by waiting a few days are negligibleit is assumedyou have an emergency fund and no expensive debtsthe most common recommendations are a target date fund or a threefund portfolio  both consist of domestic stocks international stocks and bondswith atarget date fund you just buy a single fund that has a target date near your expected retirement age and the complexity of managing the fund allocation is handled by the fund for youwith athreefund portfolio you manage your own allocation of the individual fundsif youre just getting started with investing in an ira your best bet is a target date fund at vanguard fidelity or schwabat vanguard use a vanguard target retirement fund 1000 minimumat fidelity use a fidelity freedom index fund 0 minimum be careful toavoid the similarly named fidelity freedom funds without the word index in the nameat schwab use a schwab target index fund 100 minimum be careful toavoid the similarly named schwab target funds without the word index in the nametarget date funds are intended to be easy options if you are just getting started and still learning about investing when your ira has grown to a larger size you may consider switching to a threefund portfolio approach to save on costs but the savings are only about 01 per year 10 per year per 10000 invested for most people its probably not worth the effort until you have at least 30000 or even 50000 invested overall if a target date fund is working for you stick with it as long as you wantif youre doing this in a taxable account rather than an ira you should consider building a threefund portfolio instead because target date funds are generally not taxefficient this is not a factor in an ira 401k plan or other taxadvantaged retirement accounts of courseotherwise you may be best served by athreefund portfoliowhich typically consists of the following individual fundsus total stock market index fundetf options include vti vanguard itot ishares and schb schwabmutual fund options include vtsax vanguard fzrox fidelity and swtsx schwabtotal international stock market index fundetf options include vxus vanguard and ixus isharesmutual fund options include vtiax vanguard and fzilx fidelitytotal bond market index fundetf options include bnd vanguard iusb ishares agg ishares and schz schwabmutual fund options include vbtlx vanguard fxnax fidelity and swagx schwabhere are the steps to build a basic threefund portfoliodetermine your desired bond allocationdecide how much to allocate to domestic stocks and international stocks  a domestic stock allocation of 60 to 80 is commonly recommended with 20 to 40 allocated to international stocks  the average target date fund allocates about 13 of the equity allocation to international stocks sourcemorningstar  for investors outside of the us it is common to recommend allocating a much smaller percentage to domestic stocks eg 20 to 30 although costs and other countryspecific factors need to be consideredwhenever you add money instead of adding money in the original proportions add the money in such a way that after you add money your portfolio is closer to your desired proportions  if you dont add money at least once a year or if you dont add enough to rebalance as close as you want log in once a year and sell off the winners that are worth more than their proportion and buy the losers that are worth less than their proportion  you dont have to hit these proportions exactly  getting within a few percent is finefor more specific recommendations consider any of thelazy portfolios listed in the bogleheads wikiwhat bond percentage should i havefirst of all if youre using a target date fund the bond allocation is already managed for you as part of theglide pathprocess that gradually adjusts the allocation of a target date fund over time therefore you only need to consider bond allocation for investments that arenottarget date fundsits not a great idea for anyone to be invested 100 into stocks or 100 into bonds  historically stock investments have more volatility than bonds and bonds dont outpace inflation as well as stocks  for virtually all investors a mix of both asset classes is a good idea in your investments after setting up an emergency fund and paying off expensive debts of coursetherefore you need to decide what percentage you want to hold in bonds and what percentage in stocks  this is a complex topic but some simple approaches aresubtract your age from 100 or 110 allocate that percentage to stocks and the remainder is your bond allocationsubtract your age from 130 or 120 allocate that percentage to stocks cap at 100 and the remainder is your bond allocationuse your age in bonds eg a 20yearold would hold 20 bondswhile some investors do decide to leave out bonds most target date funds always include at least 10 bonds even for investors very far from retirement  holding less in bonds will result in higher volatility so a 100 stock allocation will result in the highest possible volatilityif youre still uncertain about your bond allocation look at the allocation used by thevanguard target date fundthat would be appropriate for you based on your expected retirement date andor birth yearrelated subredditsrbogleheadslast revised bydequeued...\n",
      "Result 5 (Score: 0.447): rpersonalfinanceinvestingopen menuview page historyview page sourcecopy url common questions on investingi have money that i need in a short amount of time should i investwhat types of accounts should i save inwhat should i invest indiversify by holding different types of assetsdiversify by holding funds not individual securitiesprioritize funds with low expenseshow can i start investing for retirementshould i invest a lump sum all at once or employ a dollar cost averaging strategyfor lowcost index fund providers which is preferable vanguard fidelity or schwabwhy does everyone seem to recommend vanguardin what order should i prioritize my longterm investmentshow should i invest in my 401k 403b simple ira or other employersponsored account with limited choicescan you just recommend something extremely specific to get me startedwhat bond percentage should i haverelated subredditscommon questions on investingi have money that i need in a short amount of time should i investits a bad idea to invest money that you will need within several years the stock market is too volatile for any time horizon shorter than 3 to 5 years and investing for less than 10 years is risky its not for the faint of heartfor any time frame under 3 to 5 years you should just use savings or money market accounts  if the idea of low interest rates is too much to bear you can also consider usingi bondsor acd ladderwhile i bond rates are often attractive be aware that i bond purchases are locked up for the first 12 months and if you redeem an i bond within the first 5 years you will lose the last 3 months of interest the higher interest rates compared to savings accounts will often make up for the last 3 months of interest thoughconsider using a mini cd ladder based on cds with shorter terms if the time frame is under 1 to 2 years and bear in mind that cds also often have a lock up period or a significant early withdrawal penaltyif the time frame is 5 years or longer you can consider something like a vanguard lifestrategy fund or a similarly allocatedthreefund portfolio the risk is significant that you will lose money because its a relatively short time frame for an investment that is based on stocks and bonds  you need to be prepared for a scenario where a poorly timed downturn could affect your plans for the money  to put it another way more than half of the time it will be a win based on past history but sometimes it will not be a winif that seems too risky for you stick with savings accounts money market accounts cds or maybe some i bonds as long as the 12month lockup isnt an issue see abovejust bear in mind that there is a different risk to not investing aggressively enough if your investments are not outpacing inflation about 2 a year in recent history you may be losing actual value over time despite your investments being worth more nominally historically stocks tend to outpace inflation the best bonds also generally outpace inflation but the margin tends to be significantly smallerfor borderline time frames of 3 to 5 years aggressive investors may consider one of the more conservative vanguard lifestrategy funds or a similarly allocated threefund portfolio perhaps combined with i bonds cds saving accounts andor money market accounts but this is definitely not for the faint of heartwhat types of accounts should i save innote the type of account is completely separate from the investment itself except that certain accounts can only contain certain kinds of investments  the account type depends on the type of financial goal youre saving for since different account types have different rules about howwhen you can use the money and how they are taxedpick the account type based on the type of financial goal  pick the investment based on the time horizon for that goalput your emergency fund in a savings or checking account ideally at a bank with no atm fees and lots of convenient atmssave for retirement in taxadvantaged retirement accounts such as an ira 401k 403b or the thrift savings plan in general the financial optimum is to use up all available taxadvantaged retirement account space before moving on to investing in taxable investment accounts seeroth or traditionalfor information on deciding between the roth version and traditional version of retirement accountssave for all other financial goals in a taxable brokerage accountfor specialty savings accounts consider 529 plans education health savings accounts for future medical expenses if your health insurance plan qualifies you for one or ugmautma accounts for childrenwhat should i invest inif youve already decided to invest your money and youve decided what type of account to invest in dont skip these steps you now need to determine the investments themselvesdiversify by holding different types of assetsit may be unwise to only hold stocks of us large companies most people would recommend diversifying across us stocks international stocks and bondssee the bogleheads wiki article on asset allocation for more an example asset allocation for someone with a long investment timeframe might be 50 us stocks 30 international stocks and 20 bondsdiversify by holdingfunds not individual securitiesit is the general philosophy of therpersonalfinancecommunity that the best approach to investing especially for beginners takes advantage of diversifiedfundsof stocks and bonds instead of purchasing shares of specific companies like coke you buy into mutual funds or exchange traded funds which in turn own hundreds or thousands of companies in this way you get the upside benefit of the general trend of stock markets to go up and eliminate the extreme volatility and risk that can come with holding single stocks  good brokers to purchase shares of index funds from include vanguard fidelity and charles schwabprioritize funds with low expensesin general stock and bond funds can be divided into two categoriesactively managed fundsthese funds have a management team that is actively picking and choosing buying and selling stocks in an attempt to beat the market and buy low sell high unfortunately they often come with much higherfeesindex fundshold stocks or bonds according to an index like the sp 500 and dont change at all except when the index changes rarely due to this the expenses are often much lower expense ratios below 03 no sales loadsresearch continues to show that in general people holding low expense index funds out perform people holding actively managed funds source you cant predict the future and the past performance of any given mutual fund is no indicator of future performance one of the few things youcancontrol when selecting investments is the expenses you paytwo main types of expenses associated with mutual funds and etfstype of expensedescriptionexampleideal expenseexpense ratiothe percentage of your assets that is skimmed off each year to pay the management teamif the underlying assets of a mutual fund see a 6 gain in a year but the fund has a 05 expense ratio your holdings will only increase about 55 in valueless than 018 this is readily achievable through low cost internet brokers like fidelity schwab or vanguardsales loada sales charge you pay every time you buy or sell sharesif you put 1000 into a mutual fund with a 5 front load your money only buys 950 worth of shares in that fund it may take a year or more to make up that loss0 paying any sales charge at all should be unnecessaryhow can i start investing for retirementif you want something simple to start and you have income to invest save 1000 and open a roth or traditional depending on your tax circumstances ira with vanguard or schwab see below for fund suggestionsanother important thing to do is to read about investing for retirement check out thesuggested reading listand follow threads inrpersonalfinanceabout the topic ask questions as they come up if they arent in the wikishould i invest a lump sum all at once or employ a dollar cost averaging strategydollar cost averaging dca is a strategy in which you spread out your investment of a given sum over time  for example if you have 12000 to invest you could invest 3000 every quarter 1000 every month or any other increment you want  dca reduces your shortterm risk by ensuring that your entire sum is not invested at temporarily inflated priceshowever it is important to understand that dca is not the financially optimal strategy  vanguard found that lump sum investing lsi ie investing all of your available funds immediately outperformed a dca strategy based on historical performance pdf 12  since the longterm historical trend of equities has been up this makes sense intuitively as well  lump sum investors are compensated for taking on the equity risk premium high risk high reward sooner rather than laterwhich strategy is best for you is a highly personal decision  as vanguard statesto be comfortable with either strategy an investor must be fully aware of the fact that historical averages are only a guide  it is still possible for lsi or dca to underperform or even lose money in any given period if an investor is uncomfortable with the risks associated with a given market entry strategy it may imply a low willingness to take risk in general and if so we recommend revisiting the target asset allocation to ensure that it appropriately addresses risk tolerance levels and investing goalsfor an academic analysis of lsi vs dca seeconstantides  a note on the suboptimality of dollarcost averaging as an investment policy  finance author larry swedroe offers his thoughts on lsi vs dca inthis articlenote lsi vs dca refers to a sum you have on hand and are debating on the best way to get it in the marketinvesting money as you obtain it for example investing money from each paycheck is not an example of dcafor lowcost index fund providers which is preferable vanguard fidelity or schwabit depends on what funds you want to purchase what services are important to you and other factors vanguard fidelity and schwab all have a 0 minimum investment and a solid selection of lowcost index funds both mutual funds and etfs with no commissionnameetfsmutual fundsasset allocation fundscustomer servicebanking servicesvanguardanyvtsax vtiax vbtlxand more3000 minimumtarget date funds1000 minimum andtarget risk funds3000 minimumemail and phone support 8am10pm est mfno some mutual funds allow limited check writingfidelityanyfzrox fzilx fxnaxand more0 minimumtarget date funds0 minimumbranches email live chat and 247 phone supportcash management account atm rebates automatic money market investment free checks no fx fees for atm withdrawalscharles schwabanyswtsx swisx swagxand more1 minimumtarget date funds1 minimumbranches email live chat and 247 phone supportchecking and savings accounts atm rebates free checks no fx fees for atm withdrawals and debit purchasesall of the example funds listed are index funds have a net expense ratio of 025 or less and no commissionsrecommended mutual funds are given in the order us stocks international stocks us bonds for etf recommendations see belowthe us stock recommendations are all us total stock market fundsthe international stock recommendations must be at least as diversified as the msci eafe indexthe us bond recommendation are all us bond market index fundsfor all etfs the minimum investment is 1 share typically 20 to 200the above information may become out of date as time passes so make sure to check the web site of your chosen investment company for updated fund informationthis answer is based onthe brokerage and investment firms frequently recommended on pfwhich contains more detail and additional brokerage optionswhy does everyone seem to recommend vanguardgiven the higher fund minimums limited hours for customer service and lack of banking features it may seem strange that so many people definitely not everyone recommend vanguard onrpersonalfinance a lot has been written on this but the basic arguments that most fans will give are as followsvanguard created the first index fund available to individual investors and continues to be more focused and dedicated to index fund investing than other companiesvanguard has a unique clientowned structurerather than being publicly traded or privately owned vanguard is owned by its own funds and those funds are owned by vanguard customersvanguard has a broader selection of lowcost index funds and their actively managed funds are generally very low in costthe worst case fees that an unsavvy investorcouldend up paying for funds advice or asset management are generally going to be significantly lower at vanguardmost vanguard mutual funds are more taxefficient and suitable for use in taxable accounts while investors generally need to use etfs to reach the same level of taxefficiency with other fund companies this doesnt matter at all in an ira or other taxadvantaged accountin what order should i prioritize my longterm investmentsfollow the instructions ini have x what should i do with it  it covers steps all of the way from building an emergency fund to people who are maxing out their 401k and iraif your goal is to retire before 60 note thatthere are options for getting money out of taxadvantaged accounts before age 59so you should still follow those stepshow should i invest in my 401k 403b simple ira or other employersponsored account with limited choicesread ourstepbystep guide to 401k fund selectioncan you just recommend something extremely specific to get me startedsure but youreallyneed to understand what youre buying  it wont take you long to study up on index investing and the gains youll miss out on by waiting a few days are negligibleit is assumedyou have an emergency fund and no expensive debtsthe most common recommendations are a target date fund or a threefund portfolio  both consist of domestic stocks international stocks and bondswith atarget date fund you just buy a single fund that has a target date near your expected retirement age and the complexity of managing the fund allocation is handled by the fund for youwith athreefund portfolio you manage your own allocation of the individual fundsif youre just getting started with investing in an ira your best bet is a target date fund at vanguard fidelity or schwabat vanguard use a vanguard target retirement fund 1000 minimumat fidelity use a fidelity freedom index fund 0 minimum be careful toavoid the similarly named fidelity freedom funds without the word index in the nameat schwab use a schwab target index fund 100 minimum be careful toavoid the similarly named schwab target funds without the word index in the nametarget date funds are intended to be easy options if you are just getting started and still learning about investing when your ira has grown to a larger size you may consider switching to a threefund portfolio approach to save on costs but the savings are only about 01 per year 10 per year per 10000 invested for most people its probably not worth the effort until you have at least 30000 or even 50000 invested overall if a target date fund is working for you stick with it as long as you wantif youre doing this in a taxable account rather than an ira you should consider building a threefund portfolio instead because target date funds are generally not taxefficient this is not a factor in an ira 401k plan or other taxadvantaged retirement accounts of courseotherwise you may be best served by athreefund portfoliowhich typically consists of the following individual fundsus total stock market index fundetf options include vti vanguard itot ishares and schb schwabmutual fund options include vtsax vanguard fzrox fidelity and swtsx schwabtotal international stock market index fundetf options include vxus vanguard and ixus isharesmutual fund options include vtiax vanguard and fzilx fidelitytotal bond market index fundetf options include bnd vanguard iusb ishares agg ishares and schz schwabmutual fund options include vbtlx vanguard fxnax fidelity and swagx schwabhere are the steps to build a basic threefund portfoliodetermine your desired bond allocationdecide how much to allocate to domestic stocks and international stocks  a domestic stock allocation of 60 to 80 is commonly recommended with 20 to 40 allocated to international stocks  the average target date fund allocates about 13 of the equity allocation to international stocks sourcemorningstar  for investors outside of the us it is common to recommend allocating a much smaller percentage to domestic stocks eg 20 to 30 although costs and other countryspecific factors need to be consideredwhenever you add money instead of adding money in the original proportions add the money in such a way that after you add money your portfolio is closer to your desired proportions  if you dont add money at least once a year or if you dont add enough to rebalance as close as you want log in once a year and sell off the winners that are worth more than their proportion and buy the losers that are worth less than their proportion  you dont have to hit these proportions exactly  getting within a few percent is finefor more specific recommendations consider any of thelazy portfolios listed in the bogleheads wikiwhat bond percentage should i havefirst of all if youre using a target date fund the bond allocation is already managed for you as part of theglide pathprocess that gradually adjusts the allocation of a target date fund over time therefore you only need to consider bond allocation for investments that arenottarget date fundsits not a great idea for anyone to be invested 100 into stocks or 100 into bonds  historically stock investments have more volatility than bonds and bonds dont outpace inflation as well as stocks  for virtually all investors a mix of both asset classes is a good idea in your investments after setting up an emergency fund and paying off expensive debts of coursetherefore you need to decide what percentage you want to hold in bonds and what percentage in stocks  this is a complex topic but some simple approaches aresubtract your age from 100 or 110 allocate that percentage to stocks and the remainder is your bond allocationsubtract your age from 130 or 120 allocate that percentage to stocks cap at 100 and the remainder is your bond allocationuse your age in bonds eg a 20yearold would hold 20 bondswhile some investors do decide to leave out bonds most target date funds always include at least 10 bonds even for investors very far from retirement  holding less in bonds will result in higher volatility so a 100 stock allocation will result in the highest possible volatilityif youre still uncertain about your bond allocation look at the allocation used by thevanguard target date fundthat would be appropriate for you based on your expected retirement date andor birth yearrelated subredditsrbogleheadslast revised bydequeued...\n"
     ]
    }
   ],
   "source": [
    "from sentence_transformers import SentenceTransformer\n",
    "import pymongo\n",
    "import numpy as np\n",
    "from scipy.spatial.distance import cosine\n",
    "\n",
    "# Connect to MongoDB\n",
    "client = pymongo.MongoClient(MONGODB_CONNECTION_STRING)\n",
    "db = client[MONGODB_DATABASE]\n",
    "chunks_collection = db[MONGODB_COLLECTION]\n",
    "\n",
    "# Function to perform semantic search\n",
    "def semantic_search(query, top_k=5):\n",
    "    # Generate query embedding\n",
    "    model = SentenceTransformer('all-MiniLM-L6-v2')\n",
    "    query_embedding = model.encode(query, convert_to_tensor=False)\n",
    "    \n",
    "    # Retrieve all embeddings from MongoDB and calculate similarity\n",
    "    similarities = []\n",
    "    for document in chunks_collection.find():\n",
    "        doc_embedding = np.array(document['embedding'])\n",
    "        similarity = 1 - cosine(query_embedding, doc_embedding)  # Higher score means more similar\n",
    "        similarities.append((document['_id'], similarity, document['text']))\n",
    "    \n",
    "    # Sort by similarity score in descending order\n",
    "    similarities.sort(key=lambda x: x[1], reverse=True)\n",
    "    \n",
    "    # Return top_k most similar documents\n",
    "    return similarities[:top_k]\n",
    "\n",
    "# Example usage\n",
    "query = \"Give me best practices for portfolio management\"\n",
    "results = semantic_search(query)\n",
    "for idx, (doc_id, similarity, text) in enumerate(results, start=1):\n",
    "    print(f\"Result {idx} (Score: {similarity:.3f}): {text}...\")"
   ]
  },
  {
   "cell_type": "markdown",
   "metadata": {},
   "source": [
    "## Setting up Gemini Pro"
   ]
  },
  {
   "cell_type": "code",
   "execution_count": 8,
   "metadata": {},
   "outputs": [],
   "source": [
    "import pathlib\n",
    "import textwrap\n",
    "\n",
    "import google.generativeai as genai\n",
    "\n",
    "from IPython.display import display\n",
    "from IPython.display import Markdown\n",
    "\n",
    "\n",
    "def to_markdown(text):\n",
    "  text = text.replace('•', '  *')\n",
    "  return Markdown(textwrap.indent(text, '> ', predicate=lambda _: True))"
   ]
  },
  {
   "cell_type": "code",
   "execution_count": 9,
   "metadata": {},
   "outputs": [],
   "source": [
    "# Or use `os.getenv('GOOGLE_API_KEY')` to fetch an environment variable.\n",
    "\n",
    "genai.configure(api_key=GEMINI_API_KEY)"
   ]
  },
  {
   "cell_type": "code",
   "execution_count": 10,
   "metadata": {},
   "outputs": [
    {
     "name": "stdout",
     "output_type": "stream",
     "text": [
      "models/gemini-1.0-pro\n",
      "models/gemini-1.0-pro-001\n",
      "models/gemini-1.0-pro-latest\n",
      "models/gemini-1.0-pro-vision-latest\n",
      "models/gemini-pro\n",
      "models/gemini-pro-vision\n"
     ]
    }
   ],
   "source": [
    "for m in genai.list_models():\n",
    "  if 'generateContent' in m.supported_generation_methods:\n",
    "    print(m.name)"
   ]
  },
  {
   "cell_type": "markdown",
   "metadata": {},
   "source": [
    "## Connect LLM model"
   ]
  },
  {
   "cell_type": "code",
   "execution_count": 11,
   "metadata": {},
   "outputs": [],
   "source": [
    "# Function to generate an answer using RAG enabled LLama2 from Replicate\n",
    "def generate_RAG_answer(question, max_context_length=1000):\n",
    "    # Assume semantic_search is defined and returns relevant context as a single string\n",
    "    context_results = semantic_search(question, top_k=1)\n",
    "    context = context_results[0][2]  # Get the text of the top result\n",
    "    # Truncate context if it exceeds the maximum length\n",
    "    if len(context) > max_context_length:\n",
    "        context = context[:max_context_length]\n",
    "\n",
    "    rag_prompt = f\"[INST]\\nQuestion: {question}\\nContext: {context}\\n[/INST]\"\n",
    "    print(rag_prompt)\n",
    "\n",
    "    model = genai.GenerativeModel('gemini-pro')\n",
    "    response = model.generate_content(rag_prompt)\n",
    "    # return text part of the response\n",
    "    return response.text\n",
    "\n",
    "# Function to generate an answer using LLama2 from Replicate\n",
    "def generate_non_RAG_answer(question):\n",
    "    # Assume semantic_search is defined and returns relevant context as a single string\n",
    "    non_rag_prompt = f\"[INST]\\nQuestion: {question}\\n[/INST]\"  # Fallback in case no context is found\n",
    "    print(non_rag_prompt)\n",
    "    model = genai.GenerativeModel('gemini-pro')\n",
    "    response = model.generate_content(non_rag_prompt)\n",
    "    return response.text"
   ]
  },
  {
   "cell_type": "code",
   "execution_count": 18,
   "metadata": {},
   "outputs": [
    {
     "name": "stdout",
     "output_type": "stream",
     "text": [
      "[INST]\n",
      "Question: Best practices for repaying loans\n",
      "Context: rpersonalfinancestudentloansopen menuview page historyview page sourcecopy url a few guidelines for recent graduates with student loan debtrecent graduates should be aware of all their student loan repayment optionsrepaying student loansinformative postsrelated subredditshelpful subredditsa few guidelines for recent graduates with student loan debtlive frugallyspend as little as possible you owe a lot of money to something act like it if you dont grab it by the horns now it could haunt you for years to comecreate a budgetvisit ourbudgeting wikiuse ourtools wikithis subreddit also lovesynaband mintstick to your budgetallocate money to andira or 401kif possiblethis will depend on your interest rates generally if the interest is lower than 4 you could benefit more from putting money in an investment account remember putting money towards a 6 loan is a guaranteed 6 return another thing to remember is that if your company matches 401k then you should contribute at least the amount that they\n",
      "[/INST]\n",
      "1. **Create a budget.** This is the first step to getting your finances under control and making sure you can afford to repay your loans. Track your income and expenses so you can see where your money is going. This will help you identify areas where you can cut back and save money.\n",
      "2. **Make extra payments.** If you can afford it, making extra payments on your loans will help you pay them off faster and save money on interest. Even an extra $20 or $30 per month can make a big difference.\n",
      "3. **Consolidate your loans.** If you have multiple student loans, consolidating them into a single loan with a lower interest rate can save you money. This can be a good option if you have good credit.\n",
      "4. **Refinance your loans.** If you have good credit and a stable income, refinancing your loans with a private lender may be a good option. This can often save you money on interest and get you out of debt faster.\n",
      "5. **Apply for loan forgiveness.** If you work in a public service job, you may be eligible for loan forgiveness after 10 years of service. There are also other loan forgiveness programs available, depending on your circumstances.\n"
     ]
    }
   ],
   "source": [
    "# Example query\n",
    "query = \"Best practices for repaying loans\"\n",
    "rag_answer = generate_RAG_answer(query)\n",
    "\n",
    "print(rag_answer)"
   ]
  },
  {
   "cell_type": "code",
   "execution_count": 19,
   "metadata": {},
   "outputs": [
    {
     "name": "stdout",
     "output_type": "stream",
     "text": [
      "[INST]\n",
      "Question: Best practices for repaying loans\n",
      "[/INST]\n",
      "**Best Practices for Repaying Loans**\n",
      "\n",
      "**1. Prioritize High-Interest Debt:**\n",
      "   - Focus on paying off loans with the highest interest rates first to minimize interest charges.\n",
      "\n",
      "**2. Make Extra Payments:**\n",
      "   - If possible, make extra payments above the minimum required to accelerate repayment and reduce the total interest paid.\n",
      "\n",
      "**3. Use Debt Consolidation:**\n",
      "   - Consider consolidating multiple loans into a single loan with a lower interest rate to simplify repayment and reduce monthly payments.\n",
      "\n",
      "**4. Refinance:**\n",
      "   - Explore refinancing options to reduce interest rates or extend repayment terms, potentially lowering monthly payments or saving money on interest.\n",
      "\n",
      "**5. Negotiate with Lenders:**\n",
      "   - If experiencing financial difficulties, contact lenders to discuss repayment plans or loan modifications to avoid default.\n",
      "\n",
      "**6. Seek Credit Counseling:**\n",
      "   - Consider working with a non-profit credit counseling agency for guidance, debt management, and financial education.\n",
      "\n",
      "**7. Stay Organized:**\n",
      "   - Keep track of loan balances, due dates, and payment amounts to ensure timely and accurate payments.\n",
      "\n",
      "**8. Automate Payments:**\n",
      "   - Set up automatic payments to avoid missed deadlines and late fees.\n",
      "\n",
      "**9. Improve Financial Habits:**\n",
      "   - Create a budget to manage expenses and prioritize debt repayment.\n",
      "   - Increase income or reduce expenses to free up more funds for loan payments.\n",
      "\n",
      "**10. Stay Motivated:**\n",
      "   - Set realistic repayment goals and track progress to stay on track.\n",
      "   - Reward yourself for milestones achieved to maintain motivation.\n",
      "\n",
      "**Additional Tips:**\n",
      "\n",
      "* Avoid taking on new debt while repaying existing loans.\n",
      "* Consider using a balance transfer credit card with a 0% introductory APR for a short-term solution.\n",
      "* Be cautious of debt settlement companies, as they can negatively impact credit scores.\n",
      "* Seek professional financial advice if struggling with debt repayment.\n"
     ]
    }
   ],
   "source": [
    "# Example query\n",
    "query = \"Best practices for repaying loans\"\n",
    "non_rag_answer = generate_non_RAG_answer(query)\n",
    "\n",
    "print(non_rag_answer)"
   ]
  },
  {
   "cell_type": "markdown",
   "metadata": {},
   "source": [
    "## Evaluating RAG vs Non-RAG Approach"
   ]
  },
  {
   "cell_type": "markdown",
   "metadata": {},
   "source": [
    "In order to quantify this, I will take the following steps:\n",
    "1. Think of a query which has a well defined answer in the book.\n",
    "2. Find the true answer to a query from the actual source (book pdf). \n",
    "3. Then pass the query through the RAG based LLM and the regular LLM.\n",
    "4. Save both generated answers along with the true answer and find word embeddings for each. \n",
    "5. Finally, compare the word embeddings of the true answer with the RAG vs Non-RAG based LLM word embeddings using cosine similarity. \n",
    "\n",
    "Following these steps will help quantify the performace and accuracy of information in the two answers."
   ]
  },
  {
   "cell_type": "code",
   "execution_count": 33,
   "metadata": {},
   "outputs": [],
   "source": [
    "query = \"Best practices for repaying loans\"\n",
    "\n",
    "# True Answer from the Huberman Lab Newsletter\n",
    "true_answer = \"\"\"\"\"\""
   ]
  },
  {
   "cell_type": "markdown",
   "metadata": {},
   "source": [
    "### Implementing functions to evaluate performance. "
   ]
  },
  {
   "cell_type": "code",
   "execution_count": null,
   "metadata": {},
   "outputs": [],
   "source": [
    "import torch\n",
    "\n",
    "def get_embedding(text):\n",
    "    \"\"\"\n",
    "    Generate an embedding for a given text.\n",
    "\n",
    "    Args:\n",
    "    - text (str): The input text.\n",
    "    \n",
    "    Returns:\n",
    "    - The sentence embedding.\n",
    "    \"\"\"\n",
    "    # Load the sentence transformer model\n",
    "    model = SentenceTransformer('all-MiniLM-L6-v2')\n",
    "    # Generate the sentence embeddings\n",
    "    embeddings = model.encode(text, convert_to_tensor=False)\n",
    "    return embeddings\n",
    "\n",
    "\n",
    "def calculate_cosine_similarity(embedding1, embedding2):\n",
    "    \"\"\"\n",
    "    Calculate the cosine similarity between two embeddings.\n",
    "\n",
    "    Args:\n",
    "    - embedding1 (torch.Tensor): The first embedding.\n",
    "    - embedding2 (torch.Tensor): The second embedding.\n",
    "\n",
    "    Returns:\n",
    "    - The cosine similarity score.\n",
    "    \"\"\"\n",
    "    # Calculate the cosine similarity\n",
    "    similarity = 1 - cosine(embedding1, embedding2)\n",
    "    return similarity\n",
    "\n",
    "\n",
    "def calculate_similarity_scores(true_answer, rag_answer, non_rag_answer):\n",
    "    \"\"\"\n",
    "    Calculate the cosine similarity scores between the true answer and both RAG-based and non-RAG-based answers.\n",
    "\n",
    "    Args:\n",
    "    - true_answer (str): The true answer text.\n",
    "    - rag_answer (str): The RAG-based model's answer text.\n",
    "    - non_rag_answer (str): The non-RAG-based model's answer text.\n",
    "\n",
    "    Returns:\n",
    "    - A dictionary with cosine similarity scores.\n",
    "    \"\"\"\n",
    "    # Convert the answers to embeddings\n",
    "    true_answer_embedding = get_embedding(true_answer)\n",
    "    rag_answer_embedding = get_embedding(rag_answer)\n",
    "    non_rag_answer_embedding = get_embedding(non_rag_answer)\n",
    "    \n",
    "    # Calculate cosine similarity scores\n",
    "    rag_similarity = calculate_cosine_similarity(true_answer_embedding, rag_answer_embedding)\n",
    "    non_rag_similarity = calculate_cosine_similarity(true_answer_embedding, non_rag_answer_embedding)\n",
    "\n",
    "    \n",
    "    # Return the scores\n",
    "    return {\n",
    "        \"RAG Similarity Score\": rag_similarity,\n",
    "        \"Non-RAG Similarity Score\": non_rag_similarity\n",
    "    }\n",
    "\n",
    "\n",
    "# Calculate the similarity scores\n",
    "similarity_scores = calculate_similarity_scores(true_answer, rag_answer, non_rag_answer)\n",
    "print(similarity_scores)\n"
   ]
  }
 ],
 "metadata": {
  "kernelspec": {
   "display_name": "Python 3",
   "language": "python",
   "name": "python3"
  },
  "language_info": {
   "codemirror_mode": {
    "name": "ipython",
    "version": 3
   },
   "file_extension": ".py",
   "mimetype": "text/x-python",
   "name": "python",
   "nbconvert_exporter": "python",
   "pygments_lexer": "ipython3",
   "version": "3.11.7"
  }
 },
 "nbformat": 4,
 "nbformat_minor": 2
}
