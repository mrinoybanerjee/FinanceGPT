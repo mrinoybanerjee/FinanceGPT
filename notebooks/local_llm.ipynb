{
 "cells": [
  {
   "cell_type": "markdown",
   "metadata": {},
   "source": [
    "## Running Ollama"
   ]
  },
  {
   "cell_type": "code",
   "execution_count": null,
   "metadata": {},
   "outputs": [],
   "source": [
    "%pip install langchain_community"
   ]
  },
  {
   "cell_type": "code",
   "execution_count": 1,
   "metadata": {},
   "outputs": [],
   "source": [
    "from langchain_community.llms import Ollama"
   ]
  },
  {
   "cell_type": "markdown",
   "metadata": {},
   "source": [
    "### Loading engineered finance_gpt_llama2 model"
   ]
  },
  {
   "cell_type": "code",
   "execution_count": 4,
   "metadata": {},
   "outputs": [
    {
     "data": {
      "text/plain": [
       "\"As a financial assistant, I'm happy to provide you with some best practices for financial planning. Here are some key considerations:\\n\\n1. Set clear financial goals: Identify what you want to achieve through your financial plan. Are you saving for retirement, paying off debt, or building an emergency fund? Having specific goals will help guide your financial decisions.\\n2. Assess your income and expenses: Understand where your money is going by reviewing your bank transactions. Categorize your expenses into needs (housing, food, transportation) and wants (entertainment, hobbies). This will help you identify areas where you can cut back and allocate funds more effectively.\\n3. Create a budget: Based on your income and expenses, create a realistic budget that accounts for all of your necessary expenses and some savings. Be sure to prioritize your needs over wants, and consider allocating funds to specific savings goals, such as retirement or emergency funds.\\n4. Prioritize debt repayment: If you have outstanding debts, such as credit card balances or loans, make debt repayment a priority. Start by paying off the highest-interest debts first, and consider consolidating multiple debts into a single loan with a lower interest rate.\\n5. Build an emergency fund: Aim to save 3-6 months' worth of living expenses in an easily accessible savings account. This will provide a cushion in case of unexpected events, such as job loss or medical emergencies.\\n6. Invest for the future: Consider your risk tolerance and investment goals when selecting investments. Allocate funds to a mix of low-risk investments, such as bonds, and higher-risk investments, such as stocks or real estate. Automate your investments to make them easier to manage and review regularly to ensure they're aligned with your financial goals.\\n7. Monitor and adjust: Regularly review your budget and investment portfolio to ensure they're still aligned with your financial goals. Make adjustments as needed, such as reallocating funds or changing your investment mix.\\n8. Take advantage of tax-advantaged accounts: Utilize tax-deferred savings vehicles, such as 401(k)s, IRAs, and 529 plans, to save for retirement and education expenses while reducing your tax liability.\\n9. Avoid lifestyle inflation: As your income increases, avoid the temptation to inflate your lifestyle by spending more on luxuries. Instead, direct excess funds towards savings and investments to build wealth over time.\\n10. Seek professional advice: If you're unsure how to proceed with your financial plan or need guidance on complex financial issues, consider consulting a financial advisor. They can provide personalized advice based on your unique situation and help ensure you're making the most of your money.\\n\\nBy following these best practices for financial planning, you'll be well-equipped to achieve your financial goals and secure your financial future.\""
      ]
     },
     "execution_count": 4,
     "metadata": {},
     "output_type": "execute_result"
    }
   ],
   "source": [
    "llm = Ollama(model=\"finance_gpt_llama2\")\n",
    "llm.invoke(\"What are best practices for financial planning?\")"
   ]
  }
 ],
 "metadata": {
  "kernelspec": {
   "display_name": "Python 3",
   "language": "python",
   "name": "python3"
  },
  "language_info": {
   "codemirror_mode": {
    "name": "ipython",
    "version": 3
   },
   "file_extension": ".py",
   "mimetype": "text/x-python",
   "name": "python",
   "nbconvert_exporter": "python",
   "pygments_lexer": "ipython3",
   "version": "3.11.7"
  }
 },
 "nbformat": 4,
 "nbformat_minor": 2
}
